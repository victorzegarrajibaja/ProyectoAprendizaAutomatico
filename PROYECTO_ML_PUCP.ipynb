{
  "nbformat": 4,
  "nbformat_minor": 0,
  "metadata": {
    "colab": {
      "name": "PROYECTO_ML_PUCP.ipynb",
      "provenance": [],
      "private_outputs": true,
      "collapsed_sections": [],
      "include_colab_link": true
    },
    "kernelspec": {
      "name": "python3",
      "display_name": "Python 3"
    }
  },
  "cells": [
    {
      "cell_type": "markdown",
      "metadata": {
        "id": "view-in-github",
        "colab_type": "text"
      },
      "source": [
        "<a href=\"https://colab.research.google.com/github/victorzegarrajibaja/ProyectoAprendizaAutomatico/blob/master/PROYECTO_ML_PUCP.ipynb\" target=\"_parent\"><img src=\"https://colab.research.google.com/assets/colab-badge.svg\" alt=\"Open In Colab\"/></a>"
      ]
    },
    {{
  "nbformat": 4,
  "nbformat_minor": 0,
  "metadata": {
    "colab": {
      "name": "PROYECTO_ML_PUCP_VRZJ.ipynb",
      "provenance": [],
      "private_outputs": true,
      "collapsed_sections": []
    },
    "kernelspec": {
      "name": "python3",
      "display_name": "Python 3"
    }
  },
  "cells": [
    {
      "cell_type": "code",
      "metadata": {
        "id": "etix9KdGzg1m",
        "colab_type": "code",
        "colab": {}
      },
      "source": [
        ""
      ],
      "execution_count": null,
      "outputs": []
    },
    {
      "cell_type": "markdown",
      "metadata": {
        "id": "uAFYfihqGkXf",
        "colab_type": "text"
      },
      "source": [
        "1. INICIO"
      ]
    },
    {
      "cell_type": "code",
      "metadata": {
        "id": "acDWBQwKGmMU",
        "colab_type": "code",
        "colab": {}
      },
      "source": [
        "import pandas as pd\n",
        "import numpy as np\n",
        "from sklearn.feature_selection import chi2, SelectKBest, RFE\n",
        "from sklearn.model_selection import GridSearchCV, train_test_split, StratifiedKFold\n",
        "from sklearn.metrics import accuracy_score, f1_score, roc_auc_score\n",
        "from sklearn.linear_model import LogisticRegression\n",
        "from sklearn.svm import SVC\n",
        "from sklearn.ensemble import RandomForestClassifier, AdaBoostClassifier\n",
        "from sklearn.tree import DecisionTreeClassifier\n",
        "from sklearn.neural_network import MLPClassifier\n",
        "from sklearn.naive_bayes import GaussianNB, MultinomialNB\n",
        "from sklearn.preprocessing import MinMaxScaler, LabelEncoder\n",
        "from matplotlib import pyplot as plt\n",
        "import seaborn as sns\n",
        "from sklearn.decomposition import PCA\n",
        "from matplotlib import pylab\n",
        "%matplotlib notebook\n",
        "%matplotlib inline\n",
        "pylab.rcParams['figure.figsize'] = (3, 3)\n",
        "sns.set(style=\"white\")\n",
        "sns.set(style=\"whitegrid\", color_codes=True)"
      ],
      "execution_count": null,
      "outputs": []
    },
    {
      "cell_type": "markdown",
      "metadata": {
        "id": "WeVNKbQWIZEF",
        "colab_type": "text"
      },
      "source": [
        "2. IMPORTANDO EL CONJUNTO DE DATOS"
      ]
    },
    {
      "cell_type": "code",
      "metadata": {
        "id": "Q57zKO9KGzgz",
        "colab_type": "code",
        "colab": {}
      },
      "source": [
        "from google.colab import files\n",
        "uploaded = files.upload()"
      ],
      "execution_count": null,
      "outputs": []
    },
    {
      "cell_type": "code",
      "metadata": {
        "id": "f-jSaDfIHoID",
        "colab_type": "code",
        "colab": {}
      },
      "source": [
        "import io\n",
        "data = pd.read_csv(io.BytesIO(uploaded['bank-additional-full.csv']),sep=\";\")"
      ],
      "execution_count": null,
      "outputs": []
    },
    {
      "cell_type": "code",
      "metadata": {
        "id": "V5S0X4s0GxZj",
        "colab_type": "code",
        "colab": {}
      },
      "source": [
        "num_col = len(list(data.columns))\n",
        "pd.set_option('display.max_columns', num_col * 3)\n",
        "data.head()"
      ],
      "execution_count": null,
      "outputs": []
    },
    {
      "cell_type": "markdown",
      "metadata": {
        "id": "koHQoMPwIyBy",
        "colab_type": "text"
      },
      "source": [
        "3. DESCRIPCION Y RESUMEN DE VARIABLES"
      ]
    },
    {
      "cell_type": "markdown",
      "metadata": {
        "id": "8S65E4mjM2ta",
        "colab_type": "text"
      },
      "source": [
        "3.1 TABLAS DE RESUMEN"
      ]
    },
    {
      "cell_type": "code",
      "metadata": {
        "id": "5ijmFzVrIVfq",
        "colab_type": "code",
        "colab": {}
      },
      "source": [
        "# DESCRIPCION DE LAS VARIABLES CONTINUAS\n",
        "data.describe().T"
      ],
      "execution_count": null,
      "outputs": []
    },
    {
      "cell_type": "code",
      "metadata": {
        "id": "sXW-nbIuIizH",
        "colab_type": "code",
        "colab": {}
      },
      "source": [
        "# VARIALBLE OBJETIVO - TARGET\n",
        "data.groupby('y').mean()"
      ],
      "execution_count": null,
      "outputs": []
    },
    {
      "cell_type": "code",
      "metadata": {
        "id": "8bl4K81GJKWX",
        "colab_type": "code",
        "colab": {}
      },
      "source": [
        "# VARIABLE TIPO DE TRABAJO  \n",
        "data.groupby('job').mean()"
      ],
      "execution_count": null,
      "outputs": []
    },
    {
      "cell_type": "code",
      "metadata": {
        "id": "baPVaS0EJKac",
        "colab_type": "code",
        "colab": {}
      },
      "source": [
        "# VARIABLE ESTADO CIVIL\n",
        "data.groupby('marital').mean()"
      ],
      "execution_count": null,
      "outputs": []
    },
    {
      "cell_type": "code",
      "metadata": {
        "id": "hwg1NIZNJKw1",
        "colab_type": "code",
        "colab": {}
      },
      "source": [
        "# VARIBLE NIVEL EDUCATIVO\n",
        "data.groupby('education').mean()"
      ],
      "execution_count": null,
      "outputs": []
    },
    {
      "cell_type": "markdown",
      "metadata": {
        "id": "AhhW6MomM__Y",
        "colab_type": "text"
      },
      "source": [
        "3.2 GRAFICOS DE VARIABLES SELECCIONADAS: Y, JOB, AGE MARITAL"
      ]
    },
    {
      "cell_type": "code",
      "metadata": {
        "id": "VYCapz0xMLYd",
        "colab_type": "code",
        "colab": {}
      },
      "source": [
        "# VARIABLE Y : TARGET\n",
        "sns.countplot(x='y',data=data,palette='hls')\n",
        "plt.xlabel('Valores de y')\n",
        "plt.ylabel('Conteo')\n",
        "plt.show()"
      ],
      "execution_count": null,
      "outputs": []
    },
    {
      "cell_type": "code",
      "metadata": {
        "id": "SgMg71VfMLbk",
        "colab_type": "code",
        "colab": {}
      },
      "source": [
        "# EDAD\n",
        "data.age.hist()\n",
        "plt.title('Distribuciion de la edad')\n",
        "plt.xlabel('Edad en años')\n",
        "plt.ylabel('Frecuencia')\n",
        "plt.show()"
      ],
      "execution_count": null,
      "outputs": []
    },
    {
      "cell_type": "code",
      "metadata": {
        "id": "WGLXGC1eMLe6",
        "colab_type": "code",
        "colab": {}
      },
      "source": [
        "# ESTADO CIVIL\n",
        "sns.countplot(y = data.marital, data = data)\n",
        "plt.show()"
      ],
      "execution_count": null,
      "outputs": []
    },
    {
      "cell_type": "code",
      "metadata": {
        "id": "pqjflSSMMLh1",
        "colab_type": "code",
        "colab": {}
      },
      "source": [
        "# TIPO DE TRABAJO\n",
        "sns.countplot(y = data.job, data = data)\n",
        "plt.show()"
      ],
      "execution_count": null,
      "outputs": []
    },
    {
      "cell_type": "markdown",
      "metadata": {
        "id": "IBdB_EruPoPG",
        "colab_type": "text"
      },
      "source": [
        "3.3 TABLAS DE CONTINGENCIA"
      ]
    },
    {
      "cell_type": "code",
      "metadata": {
        "id": "LNKybz9JPnL1",
        "colab_type": "code",
        "colab": {}
      },
      "source": [
        ""
      ],
      "execution_count": null,
      "outputs": []
    },
    {
      "cell_type": "code",
      "metadata": {
        "id": "jyvelHJtOSbx",
        "colab_type": "code",
        "colab": {}
      },
      "source": [
        "# Y vs JOB\n",
        "tabla=pd.crosstab(data.job,data.y)\n",
        "tablap=tabla.div(tabla.sum(1),axis=0)\n",
        "tablap.plot(kind='bar',stacked=True)\n",
        "plt.title('Frecuencia de compra por tipo de trabajo')\n",
        "plt.xlabel('Tipo de trabajo')\n",
        "plt.ylabel('Proporcion')\n",
        "plt.savefig('trabajo_bar')\n"
      ],
      "execution_count": null,
      "outputs": []
    },
    {
      "cell_type": "code",
      "metadata": {
        "id": "ruGyU3LWOSeP",
        "colab_type": "code",
        "colab": {}
      },
      "source": [
        "# Y vs LOAN\n",
        "tabla=pd.crosstab(data.loan,data.y)\n",
        "tablap=tabla.div(tabla.sum(1),axis=0)\n",
        "tablap.plot(kind='bar',stacked=True)\n",
        "plt.title('Y vs LOAN')\n",
        "plt.xlabel('LOAN')\n",
        "plt.ylabel('Proporcion')\n",
        "plt.savefig('LOAN_bar')"
      ],
      "execution_count": null,
      "outputs": []
    },
    {
      "cell_type": "code",
      "metadata": {
        "id": "jq0NH3qrOShI",
        "colab_type": "code",
        "colab": {}
      },
      "source": [
        "# Y vs MARITAL\n",
        "tabla=pd.crosstab(data.marital,data.y)\n",
        "tablap=tabla.div(tabla.sum(1),axis=0)\n",
        "tablap.plot(kind='bar',stacked=True)\n",
        "plt.title('Y vs ESTADO CIVIL')\n",
        "plt.xlabel('ESTADO CIVIL')\n",
        "plt.ylabel('Proporcion')\n",
        "plt.savefig('MARITAL_bar')"
      ],
      "execution_count": null,
      "outputs": []
    },
    {
      "cell_type": "code",
      "metadata": {
        "id": "23lNhsx1OSj0",
        "colab_type": "code",
        "colab": {}
      },
      "source": [
        "# Y vs EDUCATION\n",
        "tabla=pd.crosstab(data.education,data.y)\n",
        "tablap=tabla.div(tabla.sum(1),axis=0)\n",
        "tablap.plot(kind='bar',stacked=True)\n",
        "plt.title('Y vs NIVEL EDUCATIVO')\n",
        "plt.xlabel('NIVEL EDUCATIVO')\n",
        "plt.ylabel('Proporcion')\n",
        "plt.savefig('EDUCATION_bar')"
      ],
      "execution_count": null,
      "outputs": []
    },
    {
      "cell_type": "code",
      "metadata": {
        "id": "iY5gyuDGOSmt",
        "colab_type": "code",
        "colab": {}
      },
      "source": [
        "# Y vs POUTCOME\n",
        "tabla=pd.crosstab(data.poutcome,data.y)\n",
        "tabla.div(tabla.sum(1),axis=0)\n",
        "tablap.plot(kind='bar',stacked=True)\n",
        "plt.title('Y vs POUTCOME')\n",
        "plt.xlabel('POUTCOME')\n",
        "plt.ylabel('Proporcion')\n",
        "plt.savefig('POUTCOME_bar')"
      ],
      "execution_count": null,
      "outputs": []
    },
    {
      "cell_type": "code",
      "metadata": {
        "id": "qsw7UAGKOSpT",
        "colab_type": "code",
        "colab": {}
      },
      "source": [
        "# Y vs MONTH\n",
        "tabla=pd.crosstab(data.month,data.y)\n",
        "tablap=tabla.div(tabla.sum(1),axis=0)\n",
        "tablap.plot(kind='bar',stacked=True)\n",
        "plt.title('Y vs MONTH')\n",
        "plt.xlabel('MES')\n",
        "plt.ylabel('Proporcion')\n",
        "plt.savefig('MONTH_bar')"
      ],
      "execution_count": null,
      "outputs": []
    },
    {
      "cell_type": "code",
      "metadata": {
        "id": "7tyg7pjlOSsj",
        "colab_type": "code",
        "colab": {}
      },
      "source": [
        "# Y vs DEFAULT\n",
        "tabla=pd.crosstab(data.default,data.y)\n",
        "tablap=tabla.div(tabla.sum(1),axis=0)\n",
        "tablap.plot(kind='bar',stacked=True)\n",
        "plt.title('Y vs DEFAULT')\n",
        "plt.xlabel('CREDITO POR DEFAULT')\n",
        "plt.ylabel('Proporcion')\n",
        "plt.legend(loc=\"lower center\")\n",
        "plt.savefig('DEFAULT_bar')"
      ],
      "execution_count": null,
      "outputs": []
    },
    {
      "cell_type": "code",
      "metadata": {
        "id": "fPlJUFpWhAQi",
        "colab_type": "code",
        "colab": {}
      },
      "source": [
        "data.head()"
      ],
      "execution_count": null,
      "outputs": []
    },
    {
      "cell_type": "code",
      "metadata": {
        "id": "7ekjNS5EgOpj",
        "colab_type": "code",
        "colab": {}
      },
      "source": [
        "# CORRELACION ENTRE LAS VARIABLES EXPLICATIVAS NUMERICAS\n",
        "data_corr = data.corr()\n",
        "plt.figure(figsize=(18, 18))\n",
        "sns.heatmap(data_corr, annot = True)\n",
        "plt.show()"
      ],
      "execution_count": null,
      "outputs": []
    },
    {
      "cell_type": "markdown",
      "metadata": {
        "id": "GQIoJKmOU5Y7",
        "colab_type": "text"
      },
      "source": [
        "3.4 TRATAMIENTO DE LAS VARIABLES"
      ]
    },
    {
      "cell_type": "code",
      "metadata": {
        "id": "HJDQ2RqIOSvV",
        "colab_type": "code",
        "colab": {}
      },
      "source": [
        "# Generando una variable alternativa a duracion: se relaciona con el objetivo \n",
        "data[\"dur\"] = pd.Series(data[\"duration\"] != 0)"
      ],
      "execution_count": null,
      "outputs": []
    },
    {
      "cell_type": "code",
      "metadata": {
        "id": "0o38j5p-cEWZ",
        "colab_type": "code",
        "colab": {}
      },
      "source": [
        "# TRATAMIENTO DE LAS VARIABLES CATEGORICAS\n",
        "# SE CONVIERTE A CADA CATEGORIA DE LA VARIABLES CATEGORICA EN UN NUMERO\n",
        "codificador = LabelEncoder()\n",
        "codificador.fit(data[\"y\"])\n",
        "data[\"y\"] = codificador.transform(data[\"y\"])\n"
      ],
      "execution_count": null,
      "outputs": []
    },
    {
      "cell_type": "code",
      "metadata": {
        "id": "sFC6KKfzOSyw",
        "colab_type": "code",
        "colab": {}
      },
      "source": [
        "# CODIFICANDO A LAS VARIABLES CATEGORICAS\n",
        "labels = ['housing', 'default', 'loan']\n",
        "for label in labels:\n",
        "    label_encoder = LabelEncoder()\n",
        "    label_encoder.fit(data[label])\n",
        "    data[label] = label_encoder.transform(data[label])"
      ],
      "execution_count": null,
      "outputs": []
    },
    {
      "cell_type": "code",
      "metadata": {
        "id": "m-i9aopqOS1W",
        "colab_type": "code",
        "colab": {}
      },
      "source": [
        "cols = ['job', 'contact', 'marital','education', 'poutcome', 'month', 'day_of_week']\n",
        "for label in cols:\n",
        "    label_encoder = LabelEncoder()\n",
        "    label_encoder.fit(data[label])\n",
        "    data[label] = label_encoder.transform(data[label])"
      ],
      "execution_count": null,
      "outputs": []
    },
    {
      "cell_type": "code",
      "metadata": {
        "id": "cYkCunLmOS4i",
        "colab_type": "code",
        "colab": {}
      },
      "source": [
        "# ELIMINACION DE LAS VARIABLES NUMERICAS CON ALTA CORRELACION: ANTERIORMENTE SE IDENTIFICO ALTA CORRELACION ENTRE LAS VARIABLES\n",
        "# emp.var.rate, cons.price.idx, nr.employed y euribor3m, por lo que se eliminara a 3 de estas 4\n",
        "final_data = data.drop([\"emp.var.rate\", \"cons.price.idx\", \"nr.employed\"], axis = 1)"
      ],
      "execution_count": null,
      "outputs": []
    },
    {
      "cell_type": "markdown",
      "metadata": {
        "id": "27nj563GexCz",
        "colab_type": "text"
      },
      "source": [
        "4. CONVIRTIENDO A LAS VARIABLES CATEGORICAS EN VARIABLES DUMMY"
      ]
    },
    {
      "cell_type": "code",
      "metadata": {
        "id": "iB3uDHm1OS7f",
        "colab_type": "code",
        "colab": {}
      },
      "source": [
        "data2= pd.get_dummies(final_data, columns = cols)"
      ],
      "execution_count": null,
      "outputs": []
    },
    {
      "cell_type": "code",
      "metadata": {
        "id": "uymqRkd7OS-c",
        "colab_type": "code",
        "colab": {}
      },
      "source": [
        "data2.head()"
      ],
      "execution_count": null,
      "outputs": []
    },
    {
      "cell_type": "code",
      "metadata": {
        "id": "69Gl02osjuBa",
        "colab_type": "code",
        "colab": {}
      },
      "source": [
        ""
      ],
      "execution_count": null,
      "outputs": []
    },
    {
      "cell_type": "markdown",
      "metadata": {
        "id": "y7XqnCzIjvF-",
        "colab_type": "text"
      },
      "source": [
        "5. NORMALIZACION DE LAS VARIABLES"
      ]
    },
    {
      "cell_type": "code",
      "metadata": {
        "id": "8Vsm1OYnOTBP",
        "colab_type": "code",
        "colab": {}
      },
      "source": [
        "# NORMALIZANDO A TODAS LAS VARIABLES INDEPENDIENTES - FEATURES\n",
        "# Renombrando a la variable y: Y\n",
        "Y= data2.y\n",
        "\n",
        "# Renombrando al conjunto de datos normalizados: X\n",
        "escala = MinMaxScaler()\n",
        "X= pd.DataFrame(escala.fit_transform(data2.drop(['y'], axis = 1)), columns = data2.drop(['y'], axis = 1).columns)"
      ],
      "execution_count": null,
      "outputs": []
    },
    {
      "cell_type": "code",
      "metadata": {
        "id": "A23Mai4UOTD-",
        "colab_type": "code",
        "colab": {}
      },
      "source": [
        "X.head()"
      ],
      "execution_count": null,
      "outputs": []
    },
    {
      "cell_type": "code",
      "metadata": {
        "id": "Kxhg5N372NO_",
        "colab_type": "code",
        "colab": {}
      },
      "source": [
        "Y.mean()"
      ],
      "execution_count": null,
      "outputs": []
    },
    {
      "cell_type": "markdown",
      "metadata": {
        "id": "fejpef-3mfqH",
        "colab_type": "text"
      },
      "source": [
        "6. SEPARACION DEL CONJUNTO DE DATOS: ENTRENAMIENTO Y PRUEBA"
      ]
    },
    {
      "cell_type": "code",
      "metadata": {
        "id": "Ld6zGWPmMLoF",
        "colab_type": "code",
        "colab": {}
      },
      "source": [
        "# CONJUNTOS DE ENTRENAMIENTO Y PRUEBA\n",
        "X_train, X_test, y_train, y_test = train_test_split(X, Y, test_size=0.2, random_state=1, stratify = Y)"
      ],
      "execution_count": null,
      "outputs": []
    },
    {
      "cell_type": "code",
      "metadata": {
        "id": "gixjv_6JMLq9",
        "colab_type": "code",
        "colab": {}
      },
      "source": [
        "# VALIDACION CRUZADA DE K ITERACIONES\n",
        "cv = StratifiedKFold(n_splits = 5, shuffle=True, random_state = 1)"
      ],
      "execution_count": null,
      "outputs": []
    },
    {
      "cell_type": "code",
      "metadata": {
        "id": "EGLlSi8NMLuP",
        "colab_type": "code",
        "colab": {}
      },
      "source": [
        "# DATAFRAME PARA GUARDAR CRITERIOS DE DESEMPEÑO\n",
        "testing = pd.DataFrame(columns = [\"Classifier\", \"F1-Score\", \"AUC\", \"Accuracy\"])"
      ],
      "execution_count": null,
      "outputs": []
    },
    {
      "cell_type": "markdown",
      "metadata": {
        "id": "awY8Pf5XuKc4",
        "colab_type": "text"
      },
      "source": [
        "7. MODELO SUPPORT VECTOR MACHINE"
      ]
    },
    {
      "cell_type": "code",
      "metadata": {
        "id": "giuuy6-AML0a",
        "colab_type": "code",
        "colab": {}
      },
      "source": [
        "# ESTABLECIENDO EL CONJUNTO DE PARAMETROS\n",
        "params = [\n",
        "            {\"C\" : [0.1, 1.0], \"kernel\" : [\"poly\"],\n",
        "              \"degree\" : [2, 3, 4],\n",
        "              \"gamma\" : [0.002, \"auto\", 0.2]\n",
        "            },\n",
        "            {\"C\" : [0.1, 1.0], \"kernel\" : [\"rbf\", \"sigmoid\"], \n",
        "              \"gamma\" : [0.002, \"auto\", 0.2]},\n",
        "            {\"C\" : [0.1, 1.0], \"kernel\" : [\"linear\"]}\n",
        "        ]\n",
        "model = GridSearchCV(estimator = SVC(class_weight = \"balanced\", max_iter = 10000, verbose = True), param_grid = params, \n",
        "                   cv = cv, n_jobs = -1, scoring = \"f1\", verbose = 2)\n",
        "model.fit(X_train, y_train)\n"
      ],
      "execution_count": null,
      "outputs": []
    },
    {
      "cell_type": "code",
      "metadata": {
        "id": "q-yv50iS2gtP",
        "colab_type": "code",
        "colab": {}
      },
      "source": [
        "#Mejores parametros escogidos\n",
        "model.best_params_"
      ],
      "execution_count": null,
      "outputs": []
    },
    {
      "cell_type": "code",
      "metadata": {
        "id": "o38d4ioDML3Y",
        "colab_type": "code",
        "colab": {}
      },
      "source": [
        "#El mejor score\n",
        "model.best_score_"
      ],
      "execution_count": null,
      "outputs": []
    },
    {
      "cell_type": "code",
      "metadata": {
        "id": "ckUzXyrsML6Y",
        "colab_type": "code",
        "colab": {}
      },
      "source": [
        "#insertando resultado al dataframe testing \n",
        "f1 = f1_score(y_test, clf.predict(X_test))\n",
        "auc = roc_auc_score(y_test, clf.predict(X_test))\n",
        "acc = accuracy_score(y_test, clf.predict(X_test))\n",
        "\n",
        "print(\"F1-Score sobre el conjunto de prueba es : %0.3f\" %f1)\n",
        "print(\"Area bajo la curva  ROC sobre el conjunto de prueba es : %0.3f\" %auc)\n",
        "print(\"Accuracy sobre el conjunto de prueba es on test data is : %0.3f\" %acc)\n",
        "\n",
        "testing.loc[-1] = [\"Support Vector Machine\", f1, auc, acc]\n",
        "testing.index = testing.index + 1\n",
        "testing = testing.sort_index()"
      ],
      "execution_count": null,
      "outputs": []
    }
  ]
}
      "cell_type": "code",
      "metadata": {
        "id": "etix9KdGzg1m",
        "colab_type": "code",
        "colab": {}
      },
      "source": [
        ""
      ],
      "execution_count": null,
      "outputs": []
    },
    {
      "cell_type": "markdown",
      "metadata": {
        "id": "uAFYfihqGkXf",
        "colab_type": "text"
      },
      "source": [
        "1. INICIO"
      ]
    },
    {
      "cell_type": "code",
      "metadata": {
        "id": "acDWBQwKGmMU",
        "colab_type": "code",
        "colab": {}
      },
      "source": [
        "import pandas as pd\n",
        "import numpy as np\n",
        "from sklearn.feature_selection import chi2, SelectKBest, RFE\n",
        "from sklearn.model_selection import GridSearchCV, train_test_split, StratifiedKFold\n",
        "from sklearn.metrics import accuracy_score, f1_score, roc_auc_score\n",
        "from sklearn.linear_model import LogisticRegression\n",
        "from sklearn.svm import SVC\n",
        "from sklearn.ensemble import RandomForestClassifier, AdaBoostClassifier\n",
        "from sklearn.tree import DecisionTreeClassifier\n",
        "from sklearn.neural_network import MLPClassifier\n",
        "from sklearn.naive_bayes import GaussianNB, MultinomialNB\n",
        "from sklearn.preprocessing import MinMaxScaler, LabelEncoder\n",
        "from matplotlib import pyplot as plt\n",
        "import seaborn as sns\n",
        "from sklearn.decomposition import PCA\n",
        "from matplotlib import pylab\n",
        "%matplotlib notebook\n",
        "%matplotlib inline\n",
        "pylab.rcParams['figure.figsize'] = (3, 3)\n",
        "sns.set(style=\"white\")\n",
        "sns.set(style=\"whitegrid\", color_codes=True)"
      ],
      "execution_count": null,
      "outputs": []
    },
    {
      "cell_type": "markdown",
      "metadata": {
        "id": "WeVNKbQWIZEF",
        "colab_type": "text"
      },
      "source": [
        "2. IMPORTANDO EL CONJUNTO DE DATOS"
      ]
    },
    {
      "cell_type": "code",
      "metadata": {
        "id": "Q57zKO9KGzgz",
        "colab_type": "code",
        "colab": {}
      },
      "source": [
        "from google.colab import files\n",
        "uploaded = files.upload()"
      ],
      "execution_count": null,
      "outputs": []
    },
    {
      "cell_type": "code",
      "metadata": {
        "id": "f-jSaDfIHoID",
        "colab_type": "code",
        "colab": {}
      },
      "source": [
        "import io\n",
        "data = pd.read_csv(io.BytesIO(uploaded['bank-additional-full.csv']),sep=\";\")"
      ],
      "execution_count": null,
      "outputs": []
    },
    {
      "cell_type": "code",
      "metadata": {
        "id": "V5S0X4s0GxZj",
        "colab_type": "code",
        "colab": {}
      },
      "source": [
        "num_col = len(list(data.columns))\n",
        "pd.set_option('display.max_columns', num_col * 3)\n",
        "data.head()"
      ],
      "execution_count": null,
      "outputs": []
    },
    {
      "cell_type": "markdown",
      "metadata": {
        "id": "koHQoMPwIyBy",
        "colab_type": "text"
      },
      "source": [
        "3. DESCRIPCION Y RESUMEN DE VARIABLES"
      ]
    },
    {
      "cell_type": "markdown",
      "metadata": {
        "id": "8S65E4mjM2ta",
        "colab_type": "text"
      },
      "source": [
        "3.1 TABLAS DE RESUMEN"
      ]
    },
    {
      "cell_type": "code",
      "metadata": {
        "id": "5ijmFzVrIVfq",
        "colab_type": "code",
        "colab": {}
      },
      "source": [
        "# DESCRIPCION DE LAS VARIABLES CONTINUAS\n",
        "data.describe().T"
      ],
      "execution_count": null,
      "outputs": []
    },
    {
      "cell_type": "code",
      "metadata": {
        "id": "sXW-nbIuIizH",
        "colab_type": "code",
        "colab": {}
      },
      "source": [
        "# VARIALBLE OBJETIVO - TARGET\n",
        "data.groupby('y').mean()"
      ],
      "execution_count": null,
      "outputs": []
    },
    {
      "cell_type": "code",
      "metadata": {
        "id": "8bl4K81GJKWX",
        "colab_type": "code",
        "colab": {}
      },
      "source": [
        "# VARIABLE TIPO DE TRABAJO  \n",
        "data.groupby('job').mean()"
      ],
      "execution_count": null,
      "outputs": []
    },
    {
      "cell_type": "code",
      "metadata": {
        "id": "baPVaS0EJKac",
        "colab_type": "code",
        "colab": {}
      },
      "source": [
        "# VARIABLE ESTADO CIVIL\n",
        "data.groupby('marital').mean()"
      ],
      "execution_count": null,
      "outputs": []
    },
    {
      "cell_type": "code",
      "metadata": {
        "id": "hwg1NIZNJKw1",
        "colab_type": "code",
        "colab": {}
      },
      "source": [
        "# VARIBLE NIVEL EDUCATIVO\n",
        "data.groupby('education').mean()"
      ],
      "execution_count": null,
      "outputs": []
    },
    {
      "cell_type": "markdown",
      "metadata": {
        "id": "AhhW6MomM__Y",
        "colab_type": "text"
      },
      "source": [
        "3.2 GRAFICOS DE VARIABLES SELECCIONADAS: Y, JOB, AGE MARITAL"
      ]
    },
    {
      "cell_type": "code",
      "metadata": {
        "id": "VYCapz0xMLYd",
        "colab_type": "code",
        "colab": {}
      },
      "source": [
        "# VARIABLE Y : TARGET\n",
        "sns.countplot(x='y',data=data,palette='hls')\n",
        "plt.xlabel('Valores de y')\n",
        "plt.ylabel('Conteo')\n",
        "plt.show()"
      ],
      "execution_count": null,
      "outputs": []
    },
    {
      "cell_type": "code",
      "metadata": {
        "id": "SgMg71VfMLbk",
        "colab_type": "code",
        "colab": {}
      },
      "source": [
        "# EDAD\n",
        "data.age.hist()\n",
        "plt.title('Distribuciion de la edad')\n",
        "plt.xlabel('Edad en años')\n",
        "plt.ylabel('Frecuencia')\n",
        "plt.show()"
      ],
      "execution_count": null,
      "outputs": []
    },
    {
      "cell_type": "code",
      "metadata": {
        "id": "WGLXGC1eMLe6",
        "colab_type": "code",
        "colab": {}
      },
      "source": [
        "# ESTADO CIVIL\n",
        "sns.countplot(y = data.marital, data = data)\n",
        "plt.show()"
      ],
      "execution_count": null,
      "outputs": []
    },
    {
      "cell_type": "code",
      "metadata": {
        "id": "pqjflSSMMLh1",
        "colab_type": "code",
        "colab": {}
      },
      "source": [
        "# TIPO DE TRABAJO\n",
        "sns.countplot(y = data.job, data = data)\n",
        "plt.show()"
      ],
      "execution_count": null,
      "outputs": []
    },
    {
      "cell_type": "markdown",
      "metadata": {
        "id": "IBdB_EruPoPG",
        "colab_type": "text"
      },
      "source": [
        "3.3 TABLAS DE CONTINGENCIA"
      ]
    },
    {
      "cell_type": "code",
      "metadata": {
        "id": "LNKybz9JPnL1",
        "colab_type": "code",
        "colab": {}
      },
      "source": [
        ""
      ],
      "execution_count": null,
      "outputs": []
    },
    {
      "cell_type": "code",
      "metadata": {
        "id": "jyvelHJtOSbx",
        "colab_type": "code",
        "colab": {}
      },
      "source": [
        "# Y vs JOB\n",
        "tabla=pd.crosstab(data.job,data.y)\n",
        "tablap=tabla.div(tabla.sum(1),axis=0)\n",
        "tablap.plot(kind='bar',stacked=True)\n",
        "plt.title('Frecuencia de compra por tipo de trabajo')\n",
        "plt.xlabel('Tipo de trabajo')\n",
        "plt.ylabel('Proporcion')\n",
        "plt.savefig('trabajo_bar')\n"
      ],
      "execution_count": null,
      "outputs": []
    },
    {
      "cell_type": "code",
      "metadata": {
        "id": "ruGyU3LWOSeP",
        "colab_type": "code",
        "colab": {}
      },
      "source": [
        "# Y vs LOAN\n",
        "tabla=pd.crosstab(data.loan,data.y)\n",
        "tablap=tabla.div(tabla.sum(1),axis=0)\n",
        "tablap.plot(kind='bar',stacked=True)\n",
        "plt.title('Y vs LOAN')\n",
        "plt.xlabel('LOAN')\n",
        "plt.ylabel('Proporcion')\n",
        "plt.savefig('LOAN_bar')"
      ],
      "execution_count": null,
      "outputs": []
    },
    {
      "cell_type": "code",
      "metadata": {
        "id": "jq0NH3qrOShI",
        "colab_type": "code",
        "colab": {}
      },
      "source": [
        "# Y vs MARITAL\n",
        "tabla=pd.crosstab(data.marital,data.y)\n",
        "tablap=tabla.div(tabla.sum(1),axis=0)\n",
        "tablap.plot(kind='bar',stacked=True)\n",
        "plt.title('Y vs ESTADO CIVIL')\n",
        "plt.xlabel('ESTADO CIVIL')\n",
        "plt.ylabel('Proporcion')\n",
        "plt.savefig('MARITAL_bar')"
      ],
      "execution_count": null,
      "outputs": []
    },
    {
      "cell_type": "code",
      "metadata": {
        "id": "23lNhsx1OSj0",
        "colab_type": "code",
        "colab": {}
      },
      "source": [
        "# Y vs EDUCATION\n",
        "tabla=pd.crosstab(data.education,data.y)\n",
        "tablap=tabla.div(tabla.sum(1),axis=0)\n",
        "tablap.plot(kind='bar',stacked=True)\n",
        "plt.title('Y vs NIVEL EDUCATIVO')\n",
        "plt.xlabel('NIVEL EDUCATIVO')\n",
        "plt.ylabel('Proporcion')\n",
        "plt.savefig('EDUCATION_bar')"
      ],
      "execution_count": null,
      "outputs": []
    },
    {
      "cell_type": "code",
      "metadata": {
        "id": "iY5gyuDGOSmt",
        "colab_type": "code",
        "colab": {}
      },
      "source": [
        "# Y vs POUTCOME\n",
        "tabla=pd.crosstab(data.poutcome,data.y)\n",
        "tabla.div(tabla.sum(1),axis=0)\n",
        "tablap.plot(kind='bar',stacked=True)\n",
        "plt.title('Y vs POUTCOME')\n",
        "plt.xlabel('POUTCOME')\n",
        "plt.ylabel('Proporcion')\n",
        "plt.savefig('POUTCOME_bar')"
      ],
      "execution_count": null,
      "outputs": []
    },
    {
      "cell_type": "code",
      "metadata": {
        "id": "qsw7UAGKOSpT",
        "colab_type": "code",
        "colab": {}
      },
      "source": [
        "# Y vs MONTH\n",
        "tabla=pd.crosstab(data.month,data.y)\n",
        "tablap=tabla.div(tabla.sum(1),axis=0)\n",
        "tablap.plot(kind='bar',stacked=True)\n",
        "plt.title('Y vs MONTH')\n",
        "plt.xlabel('MES')\n",
        "plt.ylabel('Proporcion')\n",
        "plt.savefig('MONTH_bar')"
      ],
      "execution_count": null,
      "outputs": []
    },
    {
      "cell_type": "code",
      "metadata": {
        "id": "7tyg7pjlOSsj",
        "colab_type": "code",
        "colab": {}
      },
      "source": [
        "# Y vs DEFAULT\n",
        "tabla=pd.crosstab(data.default,data.y)\n",
        "tablap=tabla.div(tabla.sum(1),axis=0)\n",
        "tablap.plot(kind='bar',stacked=True)\n",
        "plt.title('Y vs DEFAULT')\n",
        "plt.xlabel('CREDITO POR DEFAULT')\n",
        "plt.ylabel('Proporcion')\n",
        "plt.legend(loc=\"lower center\")\n",
        "plt.savefig('DEFAULT_bar')"
      ],
      "execution_count": null,
      "outputs": []
    },
    {
      "cell_type": "code",
      "metadata": {
        "id": "fPlJUFpWhAQi",
        "colab_type": "code",
        "colab": {}
      },
      "source": [
        "data.head()"
      ],
      "execution_count": null,
      "outputs": []
    },
    {
      "cell_type": "code",
      "metadata": {
        "id": "7ekjNS5EgOpj",
        "colab_type": "code",
        "colab": {}
      },
      "source": [
        "# CORRELACION ENTRE LAS VARIABLES EXPLICATIVAS NUMERICAS\n",
        "data_corr = data.corr()\n",
        "plt.figure(figsize=(18, 18))\n",
        "sns.heatmap(data_corr, annot = True)\n",
        "plt.show()"
      ],
      "execution_count": null,
      "outputs": []
    },
    {
      "cell_type": "markdown",
      "metadata": {
        "id": "GQIoJKmOU5Y7",
        "colab_type": "text"
      },
      "source": [
        "3.4 TRATAMIENTO DE LAS VARIABLES"
      ]
    },
    {
      "cell_type": "code",
      "metadata": {
        "id": "HJDQ2RqIOSvV",
        "colab_type": "code",
        "colab": {}
      },
      "source": [
        "# Generando una variable alternativa a duracion: se relaciona con el objetivo \n",
        "data[\"dur\"] = pd.Series(data[\"duration\"] != 0)"
      ],
      "execution_count": null,
      "outputs": []
    },
    {
      "cell_type": "code",
      "metadata": {
        "id": "0o38j5p-cEWZ",
        "colab_type": "code",
        "colab": {}
      },
      "source": [
        "# TRATAMIENTO DE LAS VARIABLES CATEGORICAS\n",
        "# SE CONVIERTE A CADA CATEGORIA DE LA VARIABLES CATEGORICA EN UN NUMERO\n",
        "codificador = LabelEncoder()\n",
        "codificador.fit(data[\"y\"])\n",
        "data[\"y\"] = codificador.transform(data[\"y\"])\n"
      ],
      "execution_count": null,
      "outputs": []
    },
    {
      "cell_type": "code",
      "metadata": {
        "id": "sFC6KKfzOSyw",
        "colab_type": "code",
        "colab": {}
      },
      "source": [
        "# CODIFICANDO A LAS VARIABLES CATEGORICAS\n",
        "labels = ['housing', 'default', 'loan']\n",
        "for label in labels:\n",
        "    label_encoder = LabelEncoder()\n",
        "    label_encoder.fit(data[label])\n",
        "    data[label] = label_encoder.transform(data[label])"
      ],
      "execution_count": null,
      "outputs": []
    },
    {
      "cell_type": "code",
      "metadata": {
        "id": "m-i9aopqOS1W",
        "colab_type": "code",
        "colab": {}
      },
      "source": [
        "cols = ['job', 'contact', 'marital','education', 'poutcome', 'month', 'day_of_week']\n",
        "for label in cols:\n",
        "    label_encoder = LabelEncoder()\n",
        "    label_encoder.fit(data[label])\n",
        "    data[label] = label_encoder.transform(data[label])"
      ],
      "execution_count": null,
      "outputs": []
    },
    {
      "cell_type": "code",
      "metadata": {
        "id": "cYkCunLmOS4i",
        "colab_type": "code",
        "colab": {}
      },
      "source": [
        "# ELIMINACION DE LAS VARIABLES NUMERICAS CON ALTA CORRELACION: ANTERIORMENTE SE IDENTIFICO ALTA CORRELACION ENTRE LAS VARIABLES\n",
        "# emp.var.rate, cons.price.idx, nr.employed y euribor3m, por lo que se eliminara a 3 de estas 4\n",
        "final_data = data.drop([\"emp.var.rate\", \"cons.price.idx\", \"nr.employed\"], axis = 1)"
      ],
      "execution_count": null,
      "outputs": []
    },
    {
      "cell_type": "markdown",
      "metadata": {
        "id": "27nj563GexCz",
        "colab_type": "text"
      },
      "source": [
        "4. CONVIRTIENDO A LAS VARIABLES CATEGORICAS EN VARIABLES DUMMY"
      ]
    },
    {
      "cell_type": "code",
      "metadata": {
        "id": "iB3uDHm1OS7f",
        "colab_type": "code",
        "colab": {}
      },
      "source": [
        "data2= pd.get_dummies(final_data, columns = cols)"
      ],
      "execution_count": null,
      "outputs": []
    },
    {
      "cell_type": "code",
      "metadata": {
        "id": "uymqRkd7OS-c",
        "colab_type": "code",
        "colab": {}
      },
      "source": [
        "data2.head()"
      ],
      "execution_count": null,
      "outputs": []
    },
    {
      "cell_type": "code",
      "metadata": {
        "id": "69Gl02osjuBa",
        "colab_type": "code",
        "colab": {}
      },
      "source": [
        ""
      ],
      "execution_count": null,
      "outputs": []
    },
    {
      "cell_type": "markdown",
      "metadata": {
        "id": "y7XqnCzIjvF-",
        "colab_type": "text"
      },
      "source": [
        "5. NORMALIZACION DE LAS VARIABLES"
      ]
    },
    {
      "cell_type": "code",
      "metadata": {
        "id": "8Vsm1OYnOTBP",
        "colab_type": "code",
        "colab": {}
      },
      "source": [
        "# NORMALIZANDO A TODAS LAS VARIABLES INDEPENDIENTES - FEATURES\n",
        "# Renombrando a la variable y: Y\n",
        "Y= data2.y\n",
        "\n",
        "# Renombrando al conjunto de datos normalizados: X\n",
        "escala = MinMaxScaler()\n",
        "X= pd.DataFrame(escala.fit_transform(data2.drop(['y'], axis = 1)), columns = data2.drop(['y'], axis = 1).columns)"
      ],
      "execution_count": null,
      "outputs": []
    },
    {
      "cell_type": "code",
      "metadata": {
        "id": "A23Mai4UOTD-",
        "colab_type": "code",
        "colab": {}
      },
      "source": [
        "X.head()"
      ],
      "execution_count": null,
      "outputs": []
    },
    {
      "cell_type": "code",
      "metadata": {
        "id": "Kxhg5N372NO_",
        "colab_type": "code",
        "colab": {}
      },
      "source": [
        "Y.mean()"
      ],
      "execution_count": null,
      "outputs": []
    },
    {
      "cell_type": "markdown",
      "metadata": {
        "id": "fejpef-3mfqH",
        "colab_type": "text"
      },
      "source": [
        "6. SEPARACION DEL CONJUNTO DE DATOS: ENTRENAMIENTO Y PRUEBA"
      ]
    },
    {
      "cell_type": "code",
      "metadata": {
        "id": "Ld6zGWPmMLoF",
        "colab_type": "code",
        "colab": {}
      },
      "source": [
        "# CONJUNTOS DE ENTRENAMIENTO Y PRUEBA\n",
        "X_train, X_test, y_train, y_test = train_test_split(X, Y, test_size=0.2, random_state=1, stratify = Y)"
      ],
      "execution_count": null,
      "outputs": []
    },
    {
      "cell_type": "code",
      "metadata": {
        "id": "gixjv_6JMLq9",
        "colab_type": "code",
        "colab": {}
      },
      "source": [
        "# VALIDACION CRUZADA DE K ITERACIONES\n",
        "cv = StratifiedKFold(n_splits = 5, shuffle=True, random_state = 1)"
      ],
      "execution_count": null,
      "outputs": []
    },
    {
      "cell_type": "code",
      "metadata": {
        "id": "EGLlSi8NMLuP",
        "colab_type": "code",
        "colab": {}
      },
      "source": [
        "# DATAFRAME PARA GUARDAR CRITERIOS DE DESEMPEÑO\n",
        "testing = pd.DataFrame(columns = [\"Classifier\", \"F1-Score\", \"AUC\", \"Accuracy\"])"
      ],
      "execution_count": null,
      "outputs": []
    }
  ]
}
